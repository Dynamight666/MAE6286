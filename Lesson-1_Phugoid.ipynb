{
 "cells": [
  {
   "cell_type": "code",
   "execution_count": 1,
   "metadata": {},
   "outputs": [],
   "source": [
    "import numpy\n",
    "from matplotlib import pyplot\n"
   ]
  },
  {
   "cell_type": "code",
   "execution_count": 2,
   "metadata": {},
   "outputs": [
    {
     "data": {
      "text/plain": [
       "{'divide': 'warn', 'invalid': 'warn', 'over': 'warn', 'under': 'ignore'}"
      ]
     },
     "execution_count": 2,
     "metadata": {},
     "output_type": "execute_result"
    }
   ],
   "source": [
    "numpy.seterr(all='ignore')"
   ]
  },
  {
   "cell_type": "code",
   "execution_count": 3,
   "metadata": {},
   "outputs": [],
   "source": [
    "def radius_of_curvature(z, zt, C):\n",
    "    \"\"\"\n",
    "    Returns the radius of curvature of the flight path at any point.\n",
    "\n",
    "    Parameters\n",
    "    ----------\n",
    "    z : float\n",
    "        Current depth below the reference horizontal line.\n",
    "    zt : float\n",
    "        Initial depth below the reference horizontal line.\n",
    "    C : float\n",
    "        Constant of integration.\n",
    "\n",
    "    Returns\n",
    "    -------\n",
    "    radius : float\n",
    "        Radius of curvature.\n",
    "    \"\"\"\n",
    "    return zt / (1 / 3 - C / 2 * (zt / z)**1.5)\n"
   ]
  },
  {
   "cell_type": "code",
   "execution_count": 5,
   "metadata": {},
   "outputs": [],
   "source": [
    "def rotate(coords, center=(0.0, 0.0), angle=0.0, mode='degrees'):\n",
    "    \"\"\"\n",
    "    Rotates a point or an array of points\n",
    "    by a given angle around a given center point.\n",
    "\n",
    "    Parameters\n",
    "    ----------\n",
    "    coords :tuple\n",
    "        Current x and z positions of the point(s)\n",
    "        as a tuple of two floats or a tuple of two 1D arrays of floats.\n",
    "    center : tuple, optional\n",
    "        Center of rotation (x, z) as a tuple of two floats;\n",
    "        default: (0.0, 0.0).\n",
    "    angle : float, optional\n",
    "        Angle of rotation;\n",
    "        default: 0.0.\n",
    "    mode : string, optional\n",
    "        Set if angle given in degrees or radians;\n",
    "        choices: ['degrees', 'radians'];\n",
    "        default: 'degrees'.\n",
    "\n",
    "    Returns\n",
    "    -------\n",
    "    x_new : float or numpy.ndarray\n",
    "        x position of the rotated point(s)\n",
    "        as a single float or a 1D array of floats.\n",
    "    z_new : float or numpy.ndarray\n",
    "        z position of the rotated point(s)\n",
    "        as a single float or a 1D array of floats.\n",
    "    \"\"\"\n",
    "    x, z = coords\n",
    "    xc, zc = center\n",
    "    if mode == 'degrees':\n",
    "        angle = numpy.radians(angle)\n",
    "    x_new = xc + (x - xc) * numpy.cos(angle) + (z - zc) * numpy.sin(angle)\n",
    "    z_new = zc - (x - xc) * numpy.sin(angle) + (z - zc) * numpy.cos(angle)\n",
    "    return x_new, z_new"
   ]
  },
  {
   "cell_type": "code",
   "execution_count": 6,
   "metadata": {},
   "outputs": [],
   "source": [
    "def plot_flight_path(zt, z0, theta0, N=1000):\n",
    "    \"\"\"\n",
    "    Plots the flight path of the glider.\n",
    "\n",
    "    Parameters\n",
    "    ----------\n",
    "    zt : float\n",
    "        Trim height of the glider.\n",
    "    z0 : float\n",
    "        Initial height of the glider.\n",
    "    theta0 : float\n",
    "        Initial orientation of the glider (in degrees).\n",
    "    N : integer, optional\n",
    "        Number of points used to discretize the path;\n",
    "        default: 1000.\n",
    "    \"\"\"\n",
    "    # Convert initial angle to radians.\n",
    "    theta0 = numpy.radians(theta0)\n",
    "    # Create arrays to store the coordinates of the flight path.\n",
    "    x, z = numpy.zeros(N), numpy.zeros(N)\n",
    "    # Set initial conditions.\n",
    "    x[0], z[0], theta = 0.0, z0, theta0\n",
    "    # Calculate the constant of integration C.\n",
    "    C = (numpy.cos(theta) - 1 / 3 * z[0] / zt) * (z[0] / zt)**0.5\n",
    "    # Set incremental distance along the flight path.\n",
    "    ds = 1.0\n",
    "    # Calculate coordinates along the path.\n",
    "    for i in range(1, N):\n",
    "        # We use a minus sign for the second coordinate of the normal vector\n",
    "        # because the z-axis points downwards.\n",
    "        normal = numpy.array([+ numpy.cos(theta + numpy.pi / 2.0),\n",
    "                              - numpy.sin(theta + numpy.pi / 2.0)])\n",
    "        # Get curvature radius and compute center of rotation.\n",
    "        R = radius_of_curvature(z[i - 1], zt, C)\n",
    "        center = numpy.array([x[i - 1], z[i - 1]]) + R * normal\n",
    "        # Set angular increment.\n",
    "        dtheta = ds / R\n",
    "        # Calculate new position and update angle.\n",
    "        x[i], z[i] = rotate((x[i - 1], z[i - 1]),\n",
    "                            center=center, angle=dtheta, mode='radians')\n",
    "        theta += dtheta\n",
    "    # Set the font family and size to use for Matplotlib figures.\n",
    "    pyplot.rcParams['font.family'] = 'serif'\n",
    "    pyplot.rcParams['font.size'] = 16\n",
    "    # Create Matplotlib figure.\n",
    "    fig, ax = pyplot.subplots(figsize=(9.0, 4.0))\n",
    "    ax.grid()\n",
    "    ax.set_title(f'Flight path for $C={C:.3f}$\\n' +\n",
    "                 rf'($z_t={zt:.1f}$, $z_0={z0:.1f}$, ' +\n",
    "                 rf'$\\theta_0={numpy.degrees(theta0):.1f}^o$)')\n",
    "    ax.set_xlabel(r'$x$')\n",
    "    ax.set_ylabel(r'$z$')\n",
    "    ax.plot(x, -z, linestyle='-', linewidth=2.0)\n",
    "    ax.axis('scaled', adjustable='box')\n",
    "    pyplot.show()\n"
   ]
  },
  {
   "cell_type": "code",
   "execution_count": null,
   "metadata": {},
   "outputs": [],
   "source": []
  }
 ],
 "metadata": {
  "kernelspec": {
   "display_name": "Python 3",
   "language": "python",
   "name": "python3"
  },
  "language_info": {
   "codemirror_mode": {
    "name": "ipython",
    "version": 3
   },
   "file_extension": ".py",
   "mimetype": "text/x-python",
   "name": "python",
   "nbconvert_exporter": "python",
   "pygments_lexer": "ipython3",
   "version": "3.6.2"
  }
 },
 "nbformat": 4,
 "nbformat_minor": 2
}
